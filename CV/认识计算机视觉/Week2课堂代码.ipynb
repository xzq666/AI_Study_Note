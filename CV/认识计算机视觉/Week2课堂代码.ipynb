{
 "cells": [
  {
   "cell_type": "code",
   "execution_count": 1,
   "metadata": {},
   "outputs": [],
   "source": [
    "import cv2\n",
    "import numpy as np"
   ]
  },
  {
   "cell_type": "code",
   "execution_count": 20,
   "metadata": {},
   "outputs": [],
   "source": [
    "img = cv2.imread('face.jpg')\n",
    "cv2.imshow('face',img)\n",
    "key = cv2.waitKey()\n",
    "if key == 27:\n",
    "    cv2.destroyAllWindows()"
   ]
  },
  {
   "cell_type": "markdown",
   "metadata": {},
   "source": [
    "### Gaussian kernel"
   ]
  },
  {
   "cell_type": "code",
   "execution_count": 4,
   "metadata": {},
   "outputs": [],
   "source": [
    "g_img = cv2.GaussianBlur(img, (7, 7), 2)\n",
    "cv2.imshow('face', img)\n",
    "cv2.imshow('g_face', g_img)\n",
    "key = cv2.waitKey()\n",
    "if key == 27:\n",
    "    cv2.destroyAllWindows()"
   ]
  },
  {
   "cell_type": "code",
   "execution_count": 7,
   "metadata": {},
   "outputs": [],
   "source": [
    "# 获得一个ksize为7x7 sigmaX、sigmaY为2的高斯卷积核\n",
    "kernel_1d = cv2.getGaussianKernel(7, 2)"
   ]
  },
  {
   "cell_type": "code",
   "execution_count": 8,
   "metadata": {},
   "outputs": [],
   "source": [
    "# 用分解的核函数对图像做卷积\n",
    "g1_img = cv2.sepFilter2D(img, -1, kernel_1d, kernel_1d)\n",
    "cv2.imshow('g_face', g_img)\n",
    "cv2.imshow('g1_face', g1_img)\n",
    "key = cv2.waitKey()\n",
    "if key == 27:\n",
    "    cv2.destroyAllWindows()"
   ]
  },
  {
   "cell_type": "code",
   "execution_count": 9,
   "metadata": {},
   "outputs": [
    {
     "name": "stdout",
     "output_type": "stream",
     "text": [
      "[[[ True  True  True]\n",
      "  [ True  True  True]\n",
      "  [ True  True  True]\n",
      "  ...\n",
      "  [ True  True  True]\n",
      "  [ True  True  True]\n",
      "  [ True  True  True]]\n",
      "\n",
      " [[ True  True  True]\n",
      "  [ True  True  True]\n",
      "  [ True  True  True]\n",
      "  ...\n",
      "  [ True  True  True]\n",
      "  [ True  True  True]\n",
      "  [ True  True  True]]\n",
      "\n",
      " [[ True  True  True]\n",
      "  [ True  True  True]\n",
      "  [ True  True  True]\n",
      "  ...\n",
      "  [ True  True  True]\n",
      "  [ True  True  True]\n",
      "  [ True  True  True]]\n",
      "\n",
      " ...\n",
      "\n",
      " [[ True  True  True]\n",
      "  [ True  True  True]\n",
      "  [ True  True  True]\n",
      "  ...\n",
      "  [ True  True  True]\n",
      "  [ True  True  True]\n",
      "  [ True  True  True]]\n",
      "\n",
      " [[ True  True  True]\n",
      "  [ True  True  True]\n",
      "  [ True  True  True]\n",
      "  ...\n",
      "  [ True  True  True]\n",
      "  [ True  True  True]\n",
      "  [ True  True  True]]\n",
      "\n",
      " [[ True  True  True]\n",
      "  [ True  True  True]\n",
      "  [ True  True  True]\n",
      "  ...\n",
      "  [ True  True  True]\n",
      "  [ True  True  True]\n",
      "  [ True  True  True]]]\n"
     ]
    }
   ],
   "source": [
    "print(g_img == g1_img)"
   ]
  },
  {
   "cell_type": "markdown",
   "metadata": {},
   "source": [
    "### laplacian"
   ]
  },
  {
   "cell_type": "code",
   "execution_count": 11,
   "metadata": {},
   "outputs": [],
   "source": [
    "kernel = np.array([[0, 1, 0], [1, -4, 1], [0, 1, 0]])\n",
    "lap_img = cv2.filter2D(img, -1, kernel)\n",
    "cv2.imshow('lap_face', lap_img)\n",
    "key = cv2.waitKey()\n",
    "if key == 27:\n",
    "    cv2.destroyAllWindows()"
   ]
  },
  {
   "cell_type": "markdown",
   "metadata": {},
   "source": [
    "### sobel"
   ]
  },
  {
   "cell_type": "code",
   "execution_count": 12,
   "metadata": {},
   "outputs": [],
   "source": [
    "# X方向\n",
    "x_kernel = np.array([[-1, 0, 1], [-2, 0, 2], [-1, 0, 1]])\n",
    "sobel_x_img = cv2.filter2D(img, -1, x_kernel)\n",
    "cv2.imshow('sobel_x_face', sobel_x_img)\n",
    "# Y方向\n",
    "y_kernel = np.array([[-1, -2, -1], [0, 0, 0], [1, 2, 1]])\n",
    "sobel_y_img = cv2.filter2D(img, -1, y_kernel)\n",
    "cv2.imshow('sobel_y_face', sobel_y_img)\n",
    "key = cv2.waitKey()\n",
    "if key == 27:\n",
    "    cv2.destroyAllWindows()"
   ]
  },
  {
   "cell_type": "markdown",
   "metadata": {},
   "source": [
    "### medianblur\n",
    "去除椒盐噪声效果好"
   ]
  },
  {
   "cell_type": "code",
   "execution_count": 13,
   "metadata": {},
   "outputs": [],
   "source": [
    "median_img = cv2.medianBlur(img, 7)\n",
    "cv2.imshow('face', img)\n",
    "cv2.imshow('median_face', median_img)\n",
    "key = cv2.waitKey()\n",
    "if key == 27:\n",
    "    cv2.destroyAllWindows()"
   ]
  },
  {
   "cell_type": "markdown",
   "metadata": {},
   "source": [
    "### harris corner\n",
    "harris角点检测"
   ]
  },
  {
   "cell_type": "code",
   "execution_count": 21,
   "metadata": {},
   "outputs": [],
   "source": [
    "img_gray = np.float32(cv2.cvtColor(img, cv2.COLOR_BGR2GRAY))\n",
    "\"\"\"\n",
    "src：数据类型为 float32 的输入图像\n",
    "blockSize：角点检测中要考虑的领域大小\n",
    "ksize：Sobel求导中使用的窗口大小，必须是奇数\n",
    "k：Harris角点检测方程中的自由参数，取值参数为[0,04, 0.06]\n",
    "通过阈值调小窗口调大的方式可以使更多的角点显示出来\n",
    "\"\"\"\n",
    "img_harris = cv2.cornerHarris(img_gray, 2, 7, 0.04)\n",
    "# 设置阈值\n",
    "threshold = np.max(img_harris)*0.01\n",
    "# 膨胀处理，提升后续图像角点标注的清晰准确度\n",
    "img_harris = cv2.dilate(img_harris, None)\n",
    "img[img_harris>threshold] = [0, 0, 255]\n",
    "cv2.imshow('harris_face', img)\n",
    "key = cv2.waitKey()\n",
    "if key == 27:\n",
    "    cv2.destroyAllWindows()"
   ]
  },
  {
   "cell_type": "markdown",
   "metadata": {},
   "source": [
    "### SIFT\n",
    "尺寸无关特征变换"
   ]
  },
  {
   "cell_type": "code",
   "execution_count": 22,
   "metadata": {},
   "outputs": [
    {
     "name": "stdout",
     "output_type": "stream",
     "text": [
      "1327\n"
     ]
    }
   ],
   "source": [
    "img = cv2.imread('face.jpg', 1)\n",
    "sift = cv2.xfeatures2d.SIFT_create()\n",
    "# 检测图像关键点\n",
    "kp = sift.detect(img, None)\n",
    "print(len(kp))"
   ]
  },
  {
   "cell_type": "code",
   "execution_count": 23,
   "metadata": {},
   "outputs": [
    {
     "name": "stdout",
     "output_type": "stream",
     "text": [
      "(1327, 128)\n"
     ]
    }
   ],
   "source": [
    "# 计算描述符\n",
    "kp, des = sift.compute(img, kp)\n",
    "# 关键点数量 关键点维度\n",
    "print(des.shape)"
   ]
  },
  {
   "cell_type": "code",
   "execution_count": 25,
   "metadata": {},
   "outputs": [],
   "source": [
    "# 圈大小不一样是因为主方向值不一样\n",
    "img_shift = cv2.drawKeypoints(img, kp, outImage=np.array([]), flags=cv2.DRAW_MATCHES_FLAGS_DRAW_RICH_KEYPOINTS)\n",
    "cv2.imshow('sift_face', img_shift)\n",
    "key = cv2.waitKey()\n",
    "if key == 27:\n",
    "    cv2.destroyAllWindows()"
   ]
  }
 ],
 "metadata": {
  "kernelspec": {
   "display_name": "Python 3",
   "language": "python",
   "name": "python3"
  },
  "language_info": {
   "codemirror_mode": {
    "name": "ipython",
    "version": 3
   },
   "file_extension": ".py",
   "mimetype": "text/x-python",
   "name": "python",
   "nbconvert_exporter": "python",
   "pygments_lexer": "ipython3",
   "version": "3.6.7"
  }
 },
 "nbformat": 4,
 "nbformat_minor": 2
}
